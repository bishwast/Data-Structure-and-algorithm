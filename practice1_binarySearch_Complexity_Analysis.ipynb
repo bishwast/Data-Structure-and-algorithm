{
 "cells": [
  {
   "cell_type": "markdown",
   "id": "a4f1c929",
   "metadata": {},
   "source": [
    "## Introduction to Binary Search and Complexity Analysis with Python\n",
    "\n",
    "- Objective:\n",
    "    - Think about a Problem systematically and solve it systematically spet by step.\n",
    "    - Envision different Inputs, outputs and edge cases from programs we write.\n",
    "    - Communicate own ideas clearly to other developers and incorporate their suggestions. \n",
    "    - Convert self thoughts and ideas into working code and present it redable to others. "
   ]
  },
  {
   "cell_type": "markdown",
   "id": "05e317a2",
   "metadata": {},
   "source": [
    "#### The Method to apply when solving coding problem:\n",
    "    When a coding problem is presented, first instinct might be to start coding, which is not the optimal stratedgy, because doing so one might end up spending more time to solve the problem and face coding errors.\n",
    "        \n",
    "    - Following is a systematic stratedgy to solving coding problems. \n",
    "    \n",
    "        1 State the problem clearly. Identify the input & output formats.\n",
    "        2 Come up with some example inputs & outputs. Try to cover all edge cases.\n",
    "        3 Come up with a correct solution for the problem. State it in plain English.\n",
    "        4 Implement the solution and test it using example inputs. Fix bugs, if any.\n",
    "        5 Analyze the algorithm's complexity and identify inefficiencies, if any.\n",
    "        6 Apply the right technique to overcome the inefficiency. Repeat steps 3 to 6"
   ]
  },
  {
   "cell_type": "markdown",
   "id": "d67a8e02",
   "metadata": {},
   "source": [
    "#### Following are teh Practice Questions I have chosen in this topic.\n",
    "For reference, please follow the URL: \n",
    "https://www.youtube.com/watch?v=pkYVOmU3MgA&list=PLa_2-2ywAimV1kL35XPVD82CFBNg5GRwY&index=6"
   ]
  },
  {
   "cell_type": "markdown",
   "id": "beb1984e",
   "metadata": {},
   "source": [
    "##### Question1:  \n",
    "Alice has some cards with numbers written on them. She arranges the cards in decreasing order, and lays them out face down in a sequence on a table. She challenges Bob to pick out the card containing a given number by turning over as few cards as possible. Write a function to help Bob locate the card."
   ]
  },
  {
   "cell_type": "markdown",
   "id": "9781fb77",
   "metadata": {},
   "source": [
    "##### Solution:\n",
    "\n",
    "##### Step 1: State the problem clearly. Identify the input and output formats.\n",
    "    \n",
    "    1. Sequence of cards = list of numbers.\n",
    "    2. Turning over as few cards as possible: Accessing the value of an element in a list at the corresponding position of the list. \n",
    "    3. Alice arranged the cards in decending order: Need to sort it ascending. \n",
    "    \n",
    "Problem:\n",
    "\n",
    "    1. We need to write a function to find the position of a given number in a list of numbers that is \n",
    "    arranged in a decreasing order. Also, minimize the number of times we access the elements from the list. \n",
    "    \n",
    "Input:\n",
    "\n",
    "    1. Cards: List of numbers in a decreasing/decending order. E.g. [ 5,4,3,2,1]\n",
    "    2. Query: A number or index position in the list to be determined. \n",
    "    \n",
    "Output:\n",
    "\n",
    "    1. Index Position: Index position of the Query in the List : Cards\n",
    "    2. def locate_card(cards, query):\n",
    "            pass  \n",
    "    \n",
    "    "
   ]
  },
  {
   "cell_type": "markdown",
   "id": "eb8a8e26",
   "metadata": {},
   "source": [
    "##### Step 2: Come up with some example Inputs and Outputs. Try to cover all edcges.\n",
    "\n",
    "Test Cases:\n",
    "    \n",
    "    cards = [10,9,7,5,3,2,1,0]\n",
    "    query = 8\n",
    "    output = 3\n",
    "\n",
    "NOTE:\n",
    "\n",
    "    Test the function by passing the inputs into the function and,\n",
    "    comparing the result with the expected output."
   ]
  },
  {
   "cell_type": "code",
   "execution_count": 1,
   "id": "46330cc5",
   "metadata": {},
   "outputs": [],
   "source": [
    "# libraries\n",
    "import math"
   ]
  },
  {
   "cell_type": "code",
   "execution_count": 2,
   "id": "f93a45fd",
   "metadata": {},
   "outputs": [],
   "source": [
    "# function\n",
    "def locate_cards(cards, query):\n",
    "    pass"
   ]
  },
  {
   "cell_type": "code",
   "execution_count": 13,
   "id": "f06a085b",
   "metadata": {},
   "outputs": [],
   "source": [
    "# test case\n",
    "cards = [13, 11, 10, 7, 4, 3, 1, 0]\n",
    "query = 7\n",
    "output = 3"
   ]
  },
  {
   "cell_type": "code",
   "execution_count": 14,
   "id": "e996bdc1",
   "metadata": {},
   "outputs": [
    {
     "name": "stdout",
     "output_type": "stream",
     "text": [
      "None\n"
     ]
    }
   ],
   "source": [
    "result = locate_cards(cards, query)\n",
    "print(result)"
   ]
  },
  {
   "cell_type": "code",
   "execution_count": 15,
   "id": "502db0a6",
   "metadata": {},
   "outputs": [
    {
     "data": {
      "text/plain": [
       "False"
      ]
     },
     "execution_count": 15,
     "metadata": {},
     "output_type": "execute_result"
    }
   ],
   "source": [
    "# comparing result with expected output\n",
    "result == output"
   ]
  },
  {
   "cell_type": "markdown",
   "id": "86535f4f",
   "metadata": {},
   "source": [
    "The result does not match the output as the function is not implemented yet.\n",
    "\n",
    "    - Representing the Test Cases as a Dictionary to makeit easy to test them once the function is implemented. "
   ]
  },
  {
   "cell_type": "code",
   "execution_count": 16,
   "id": "a76411d2",
   "metadata": {},
   "outputs": [],
   "source": [
    "# Test\n",
    "test = {\n",
    "    'input': {\n",
    "        'cards' : [13, 11, 10, 7, 4, 3, 1, 0],\n",
    "        'query' : 7,\n",
    "    },\n",
    "    \n",
    "    'output': 3\n",
    "}"
   ]
  },
  {
   "cell_type": "code",
   "execution_count": 17,
   "id": "b800571f",
   "metadata": {},
   "outputs": [
    {
     "data": {
      "text/plain": [
       "False"
      ]
     },
     "execution_count": 17,
     "metadata": {},
     "output_type": "execute_result"
    }
   ],
   "source": [
    "# Testing the function\n",
    "locate_cards(**test['input']) == test['output']"
   ]
  },
  {
   "cell_type": "markdown",
   "id": "c69bdb1d",
   "metadata": {},
   "source": [
    "Our function should be able to handle any set of valid inputs we pass into it. Here's a list of some possible variations we might encounter:\n",
    "\n",
    "    1 The number query occurs somewhere in the middle of the list cards.\n",
    "    2 query is the first element in cards.\n",
    "    3 query is the last element in cards.\n",
    "    4 The list cards contains just one element, which is query.\n",
    "    5 The list cards does not contain number query.\n",
    "    6 The list cards is empty.\n",
    "    7 The list cards contains repeating numbers.\n",
    "    8 The number query occurs at more than one position in cards.\n",
    "    (We can you think of more variations.. > Edge Cases)\n",
    "    \n",
    "Edge Cases:\n",
    "\n",
    "     It's likely that you didn't think of all of the above cases when you read the problem for the first time. Some of these (like the empty array or query not occurring in cards) are called **edge cases**, as they represent rare or extreme examples.\n",
    "\n",
    "\n",
    "Although Edge Cases do not occur frequently, the function must be able to handle all edge cases, or else they may fail in unexpected ways. \n",
    "\n",
    "Following are some test cases for the variations presented above and store all the test cases in a list for easier testing. "
   ]
  },
  {
   "cell_type": "code",
   "execution_count": 18,
   "id": "8f02fcbb",
   "metadata": {},
   "outputs": [],
   "source": [
    "tests = []"
   ]
  },
  {
   "cell_type": "code",
   "execution_count": 19,
   "id": "c1d9b3be",
   "metadata": {},
   "outputs": [],
   "source": [
    "# query occurs somewhere in the middle of the list cards.\n",
    "tests.append(test)\n",
    "tests.append({\n",
    "    'input': {\n",
    "        'cards' : [13, 11, 10, 7, 4, 3, 1, 0],\n",
    "        'query' : 1\n",
    "    },\n",
    "    \n",
    "    'output': 6\n",
    "})"
   ]
  },
  {
   "cell_type": "code",
   "execution_count": 20,
   "id": "40cc94f4",
   "metadata": {},
   "outputs": [],
   "source": [
    "# query is the first element in the list of cards\n",
    "tests.append({\n",
    "    'input': {\n",
    "        'cards' : [4, 2, 1, -1],\n",
    "        'query' : 4\n",
    "    },\n",
    "    \n",
    "    'output': 0\n",
    "})\n"
   ]
  },
  {
   "cell_type": "code",
   "execution_count": 21,
   "id": "1e9b8dc0",
   "metadata": {},
   "outputs": [],
   "source": [
    "# query if the last element in the cards\n",
    "tests.append({\n",
    "    'input': {\n",
    "        'cards' : [3, -1, -9, -127],\n",
    "        'query' : -127\n",
    "    },\n",
    "    \n",
    "    'output': 0\n",
    "})"
   ]
  },
  {
   "cell_type": "code",
   "execution_count": 22,
   "id": "a3bc0b73",
   "metadata": {},
   "outputs": [],
   "source": [
    "# cards contains just one element, query\n",
    "tests.append({\n",
    "    'input': {\n",
    "        'cards': [6],\n",
    "        'query': 6\n",
    "    },\n",
    "    'output': 0 \n",
    "})"
   ]
  },
  {
   "cell_type": "markdown",
   "id": "33bbb9ef",
   "metadata": {},
   "source": [
    "The problem statement does not specify what to do if the list cards does not contain the number query.\n",
    "\n",
    "    Read the problem statement again, carefully.\n",
    "    Look through the examples provided with the problem.\n",
    "    Ask the interviewer/platform for a clarification.\n",
    "    Make a reasonable assumption, state it and move forward.\n",
    "\n",
    "We will assume that our function will return -1 in case cards does not contain query."
   ]
  },
  {
   "cell_type": "code",
   "execution_count": 23,
   "id": "22ead8b8",
   "metadata": {},
   "outputs": [],
   "source": [
    "# return -1 if the cards does not contain the query\n",
    "tests.append({\n",
    "     'input': {\n",
    "        'cards': [9, 7, 5, 2, -9],\n",
    "        'query': 4\n",
    "    },\n",
    "    'output': -1\n",
    "})"
   ]
  },
  {
   "cell_type": "code",
   "execution_count": 24,
   "id": "0c950c26",
   "metadata": {},
   "outputs": [],
   "source": [
    "# if cards is empty\n",
    "tests.append({\n",
    "    'input': {\n",
    "        'cards': [],\n",
    "        'query': 7\n",
    "    },\n",
    "    'output': -1\n",
    "})"
   ]
  },
  {
   "cell_type": "code",
   "execution_count": 25,
   "id": "0413072d",
   "metadata": {},
   "outputs": [],
   "source": [
    "# if numbers can repeat in cards\n",
    "tests.append({\n",
    "    'input': {\n",
    "        'cards': [8, 8, 6, 6, 6, 6, 6, 3, 2, 2, 2, 0, 0, 0],\n",
    "        'query': 3\n",
    "    },\n",
    "    'output': 7\n",
    "})"
   ]
  },
  {
   "cell_type": "markdown",
   "id": "a3c7b0a4",
   "metadata": {},
   "source": [
    "In the case where `query` occurs multiple times in `cards`, we'll expect our function to return the first occurrence of `query`. \n",
    "\n",
    "While it may also be acceptable for the function to return any position where `query` occurs within the list, it would be slightly more difficult to test the function, as the output is non-deterministic."
   ]
  },
  {
   "cell_type": "code",
   "execution_count": 26,
   "id": "745fc4a8",
   "metadata": {},
   "outputs": [],
   "source": [
    "# query occurs multiple times\n",
    "tests.append({\n",
    "    'input': {\n",
    "        'cards': [8, 8, 6, 6, 6, 6, 6, 6, 3, 2, 2, 2, 0, 0, 0],\n",
    "        'query': 6\n",
    "    },\n",
    "    'output': 2\n",
    "})"
   ]
  },
  {
   "cell_type": "code",
   "execution_count": 27,
   "id": "3148972b",
   "metadata": {},
   "outputs": [
    {
     "data": {
      "text/plain": [
       "[{'input': {'cards': [13, 11, 10, 7, 4, 3, 1, 0], 'query': 7}, 'output': 3},\n",
       " {'input': {'cards': [13, 11, 10, 7, 4, 3, 1, 0], 'query': 1}, 'output': 6},\n",
       " {'input': {'cards': [4, 2, 1, -1], 'query': 4}, 'output': 0},\n",
       " {'input': {'cards': [3, -1, -9, -127], 'query': -127}, 'output': 0},\n",
       " {'input': {'cards': [6], 'query': 6}, 'output': 0},\n",
       " {'input': {'cards': [9, 7, 5, 2, -9], 'query': 4}, 'output': -1},\n",
       " {'input': {'cards': [], 'query': 7}, 'output': -1},\n",
       " {'input': {'cards': [8, 8, 6, 6, 6, 6, 6, 3, 2, 2, 2, 0, 0, 0], 'query': 3},\n",
       "  'output': 7},\n",
       " {'input': {'cards': [8, 8, 6, 6, 6, 6, 6, 6, 3, 2, 2, 2, 0, 0, 0],\n",
       "   'query': 6},\n",
       "  'output': 2}]"
      ]
     },
     "execution_count": 27,
     "metadata": {},
     "output_type": "execute_result"
    }
   ],
   "source": [
    "# Full set of test cases we have created so far\n",
    "tests"
   ]
  },
  {
   "cell_type": "markdown",
   "id": "e11b31a0",
   "metadata": {},
   "source": [
    "Creating test cases beforehand allows you to identify different variations and edge cases in advance so that can make sure to handle them while writing code. Sometimes, you may start out confused, but the solution will reveal itself as you try to come up with interesting test cases.\n",
    "\n",
    "Tip: Don't stress it if you can't come up with an exhaustive list of test cases though. You can come back to this section and add more test cases as you discover them. Coming up with good test cases is a skill that takes practice."
   ]
  },
  {
   "cell_type": "markdown",
   "id": "3c33d199",
   "metadata": {},
   "source": [
    "### 3. Come up with a correct solution for the problem. State it in plain English.\n",
    "\n",
    "Our first goal should always be to come up with a _correct_ solution to the problem, which may necessarily be the most _efficient_ solution. The simplest or most obvious solution to a problem, which generally involves checking all possible answers is called the _brute force_ solution.\n",
    "\n",
    "In this problem, coming up with a correct solution is quite easy: Bob can simply turn over cards in order one by one, till he find a card with the given number on it. Here's how we might implement it:\n",
    "\n",
    "1. Create a variable `position` with the value 0.\n",
    "3. Check whether the number at index `position` in `card` equals `query`.\n",
    "4. If it does, `position` is the answer and can be returned from the function\n",
    "5. If not, increment the value of `position` by 1, and repeat steps 2 to 5 till we reach the last position.\n",
    "6. If the number was not found, return `-1`.\n",
    "\n",
    "> **Linear Search Algorithm**: Congratulations, we've just written our first _algorithm_! An algorithm is simply a list of statements which can be converted into code and executed by a computer on different sets of inputs. This particular algorithm is called linear search, since it involves searching through a list in a linear fashion i.e. element after element.\n",
    "\n",
    "\n",
    "**Tip:** Always try to express (speak or write) the algorithm in your own words before you start coding. It can be as brief or detailed as you require it to be. Writing is a great tool for thinking clearly. It's likely that you will find some parts of the solution difficult to express, which suggests that you are probably unable to think about it clearly. The more clearly you are able to express your thoughts, the easier it will be for you to turn into code."
   ]
  },
  {
   "cell_type": "markdown",
   "id": "4bddb367",
   "metadata": {},
   "source": [
    "##### Step 4. Implement the solution and test it using example inputs. Fix bugs, if any.\n",
    "\n",
    "We are finally ready to implement our solution. All the work we've done so far will definitely come in handy, as we now exactly what we want our function to do, and we have an easy way of testing it on a variety of inputs.\n",
    "\n",
    "Here's a first attempt at implementing the function."
   ]
  },
  {
   "cell_type": "code",
   "execution_count": 28,
   "id": "2f853fc5",
   "metadata": {},
   "outputs": [],
   "source": [
    "def locate_card(cards, query):\n",
    "    # create variable position with a value of 0\n",
    "    position = 0\n",
    "    \n",
    "    # set up a loop for repetition\n",
    "    while True:\n",
    "        \n",
    "        # check if element at the current position match the query\n",
    "        if cards[position] == query:\n",
    "            return position\n",
    "        position +=1\n",
    "        \n",
    "        # check if we have reached the end of the query\n",
    "        if position == len(cards):\n",
    "            # number not found\n",
    "            return -1"
   ]
  },
  {
   "cell_type": "code",
   "execution_count": 29,
   "id": "b21b1407",
   "metadata": {},
   "outputs": [
    {
     "data": {
      "text/plain": [
       "{'input': {'cards': [13, 11, 10, 7, 4, 3, 1, 0], 'query': 7}, 'output': 3}"
      ]
     },
     "execution_count": 29,
     "metadata": {},
     "output_type": "execute_result"
    }
   ],
   "source": [
    "test"
   ]
  },
  {
   "cell_type": "code",
   "execution_count": 30,
   "id": "f2b14c95",
   "metadata": {},
   "outputs": [
    {
     "data": {
      "text/plain": [
       "3"
      ]
     },
     "execution_count": 30,
     "metadata": {},
     "output_type": "execute_result"
    }
   ],
   "source": [
    "result = locate_card(test['input']['cards'], test['input']['query'])\n",
    "result"
   ]
  },
  {
   "cell_type": "code",
   "execution_count": 31,
   "id": "93493277",
   "metadata": {},
   "outputs": [
    {
     "data": {
      "text/plain": [
       "True"
      ]
     },
     "execution_count": 31,
     "metadata": {},
     "output_type": "execute_result"
    }
   ],
   "source": [
    "result == output"
   ]
  },
  {
   "cell_type": "code",
   "execution_count": null,
   "id": "d54501f5",
   "metadata": {},
   "outputs": [],
   "source": []
  }
 ],
 "metadata": {
  "kernelspec": {
   "display_name": "Python 3 (ipykernel)",
   "language": "python",
   "name": "python3"
  },
  "language_info": {
   "codemirror_mode": {
    "name": "ipython",
    "version": 3
   },
   "file_extension": ".py",
   "mimetype": "text/x-python",
   "name": "python",
   "nbconvert_exporter": "python",
   "pygments_lexer": "ipython3",
   "version": "3.10.9"
  }
 },
 "nbformat": 4,
 "nbformat_minor": 5
}
